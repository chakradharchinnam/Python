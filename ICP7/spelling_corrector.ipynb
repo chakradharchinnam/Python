{
  "nbformat": 4,
  "nbformat_minor": 0,
  "metadata": {
    "colab": {
      "name": "spelling_corrector.ipynb",
      "provenance": [],
      "toc_visible": true
    },
    "kernelspec": {
      "name": "python3",
      "display_name": "Python 3"
    }
  },
  "cells": [
    {
      "cell_type": "code",
      "metadata": {
        "id": "pSJ1Bdm56vIf",
        "colab_type": "code",
        "colab": {}
      },
      "source": [
        "import re, collections"
      ],
      "execution_count": 0,
      "outputs": []
    },
    {
      "cell_type": "code",
      "metadata": {
        "id": "pD2SlEvG64vk",
        "colab_type": "code",
        "colab": {}
      },
      "source": [
        "def tokens(text):\n",
        "    \"\"\"\n",
        "    Get all words from the corpus\n",
        "    \"\"\"\n",
        "    return re.findall('[a-z]+', text.lower())"
      ],
      "execution_count": 0,
      "outputs": []
    },
    {
      "cell_type": "code",
      "metadata": {
        "id": "yoEUUarz68dI",
        "colab_type": "code",
        "colab": {
          "base_uri": "https://localhost:8080/",
          "height": 35
        },
        "outputId": "91d42971-7041-459f-ff57-0d90bf66e5f0"
      },
      "source": [
        "WORDS = tokens(open('/content/big.txt').read())\n",
        "WORD_COUNTS = collections.Counter(WORDS)\n",
        "\n",
        "# top 10 words in corpus\n",
        "print(WORD_COUNTS.most_common(10))"
      ],
      "execution_count": 3,
      "outputs": [
        {
          "output_type": "stream",
          "text": [
            "[('the', 80030), ('of', 40025), ('and', 38313), ('to', 28766), ('in', 22050), ('a', 21155), ('that', 12512), ('he', 12401), ('was', 11410), ('it', 10681)]\n"
          ],
          "name": "stdout"
        }
      ]
    },
    {
      "cell_type": "code",
      "metadata": {
        "id": "rnMe1TtK7VqE",
        "colab_type": "code",
        "colab": {}
      },
      "source": [
        "def known(words):\n",
        "    \"\"\"\n",
        "    Return the subset of words that are actually \n",
        "    in our WORD_COUNTS dictionary.\n",
        "    \"\"\"\n",
        "    return {w for w in words if w in WORD_COUNTS}\n",
        "\n",
        "\n",
        "def edits0(word):\n",
        "    \"\"\"\n",
        "    Return all strings that are zero edits away \n",
        "    from the input word (i.e., the word itself).\n",
        "    \"\"\"\n",
        "    return {word}\n",
        "\n",
        "\n",
        "def edits1(word):\n",
        "    \"\"\"\n",
        "    Return all strings that are one edit away \n",
        "    from the input word.\n",
        "    \"\"\"\n",
        "    alphabet = 'abcdefghijklmnopqrstuvwxyz'\n",
        "\n",
        "    def splits(word):\n",
        "        \"\"\"\n",
        "        Return a list of all possible (first, rest) pairs \n",
        "        that the input word is made of.\n",
        "        \"\"\"\n",
        "        return [(word[:i], word[i:])\n",
        "                for i in range(len(word) + 1)]\n",
        "\n",
        "    pairs = splits(word)\n",
        "    deletes = [a + b[1:] for (a, b) in pairs if b]\n",
        "    transposes = [a + b[1] + b[0] + b[2:] for (a, b) in pairs if len(b) > 1]\n",
        "    replaces = [a + c + b[1:] for (a, b) in pairs for c in alphabet if b]\n",
        "    inserts = [a + c + b for (a, b) in pairs for c in alphabet]\n",
        "    return set(deletes + transposes + replaces + inserts)\n",
        "\n",
        "\n",
        "def edits2(word):\n",
        "    \"\"\"Return all strings that are two edits away \n",
        "    from the input word.\n",
        "    \"\"\"\n",
        "    return {e2 for e1 in edits1(word) for e2 in edits1(e1)}\n",
        "\n",
        "\n",
        "def correct(word):\n",
        "    \"\"\"\n",
        "    Get the best correct spelling for the input word\n",
        "    \"\"\"\n",
        "    # Priority is for edit distance 0, then 1, then 2\n",
        "    # else defaults to the input word itself.\n",
        "    candidates = (known(edits0(word)) or\n",
        "                  known(edits1(word)) or\n",
        "                  known(edits2(word)) or\n",
        "                  [word])\n",
        "    return max(candidates, key=WORD_COUNTS.get)\n",
        "\n",
        "\n",
        "def correct_match(match):\n",
        "    \"\"\"\n",
        "    Spell-correct word in match, \n",
        "    and preserve proper upper/lower/title case.\n",
        "    \"\"\"\n",
        "\n",
        "    word = match.group()\n",
        "\n",
        "    def case_of(text):\n",
        "        \"\"\"\n",
        "        Return the case-function appropriate \n",
        "        for text: upper, lower, title, or just str.:\n",
        "            \"\"\"\n",
        "        return (str.upper if text.isupper() else\n",
        "                str.lower if text.islower() else\n",
        "                str.title if text.istitle() else\n",
        "                str)\n",
        "\n",
        "    return case_of(word)(correct(word.lower()))\n",
        "\n",
        "\n",
        "def correct_text_generic(text):\n",
        "    \"\"\"\n",
        "    Correct all the words within a text, \n",
        "    returning the corrected text.\n",
        "    \"\"\"\n",
        "    return re.sub('[a-zA-Z]+', correct_match, text)"
      ],
      "execution_count": 0,
      "outputs": []
    },
    {
      "cell_type": "code",
      "metadata": {
        "id": "mbMBn1Sn7drC",
        "colab_type": "code",
        "colab": {
          "base_uri": "https://localhost:8080/",
          "height": 54
        },
        "outputId": "3b543533-59ef-4426-d1ea-76cf4ac532a7"
      },
      "source": [
        "print(correct_text_generic('fianlly'))\n",
        "print(correct_text_generic('additioanl'))"
      ],
      "execution_count": 5,
      "outputs": [
        {
          "output_type": "stream",
          "text": [
            "finally\n",
            "additional\n"
          ],
          "name": "stdout"
        }
      ]
    },
    {
      "cell_type": "code",
      "metadata": {
        "id": "wvO_eiEK7fzZ",
        "colab_type": "code",
        "colab": {}
      },
      "source": [
        ""
      ],
      "execution_count": 0,
      "outputs": []
    }
  ]
}