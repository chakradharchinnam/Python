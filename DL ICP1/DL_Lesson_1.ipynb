{
  "nbformat": 4,
  "nbformat_minor": 0,
  "metadata": {
    "colab": {
      "name": "DL-Lesson-1.ipynb",
      "provenance": []
    },
    "kernelspec": {
      "name": "python3",
      "display_name": "Python 3"
    }
  },
  "cells": [
    {
      "cell_type": "code",
      "metadata": {
        "id": "pTRagYcvHjDj",
        "colab_type": "code",
        "colab": {
          "base_uri": "https://localhost:8080/",
          "height": 83
        },
        "outputId": "732b888a-ac4a-4e87-b9b5-54b40b802e0d"
      },
      "source": [
        "import pandas\n",
        "from keras.models import Sequential\n",
        "from keras.layers.core import Dense, Activation\n",
        "\n",
        "# load dataset\n",
        "from sklearn.model_selection import train_test_split\n",
        "import pandas as pd\n",
        "import numpy as np"
      ],
      "execution_count": 1,
      "outputs": [
        {
          "output_type": "stream",
          "text": [
            "Using TensorFlow backend.\n"
          ],
          "name": "stderr"
        },
        {
          "output_type": "display_data",
          "data": {
            "text/html": [
              "<p style=\"color: red;\">\n",
              "The default version of TensorFlow in Colab will soon switch to TensorFlow 2.x.<br>\n",
              "We recommend you <a href=\"https://www.tensorflow.org/guide/migrate\" target=\"_blank\">upgrade</a> now \n",
              "or ensure your notebook will continue to use TensorFlow 1.x via the <code>%tensorflow_version 1.x</code> magic:\n",
              "<a href=\"https://colab.research.google.com/notebooks/tensorflow_version.ipynb\" target=\"_blank\">more info</a>.</p>\n"
            ],
            "text/plain": [
              "<IPython.core.display.HTML object>"
            ]
          },
          "metadata": {
            "tags": []
          }
        }
      ]
    },
    {
      "cell_type": "code",
      "metadata": {
        "id": "ApzFGDkOHnt7",
        "colab_type": "code",
        "colab": {}
      },
      "source": [
        "dataset = pd.read_csv(\"/content/diabetes.csv\", header=None).values"
      ],
      "execution_count": 0,
      "outputs": []
    },
    {
      "cell_type": "code",
      "metadata": {
        "id": "yt64olkkHwft",
        "colab_type": "code",
        "colab": {}
      },
      "source": [
        "X_train, X_test, Y_train, Y_test = train_test_split(dataset[:,0:8], dataset[:,8],test_size=0.25, random_state=87)"
      ],
      "execution_count": 0,
      "outputs": []
    },
    {
      "cell_type": "code",
      "metadata": {
        "id": "d31zma3SH1KX",
        "colab_type": "code",
        "colab": {}
      },
      "source": [
        "np.random.seed(42)"
      ],
      "execution_count": 0,
      "outputs": []
    },
    {
      "cell_type": "code",
      "metadata": {
        "id": "rMfomxTmH3ww",
        "colab_type": "code",
        "colab": {
          "base_uri": "https://localhost:8080/",
          "height": 1000
        },
        "outputId": "0c59d82a-a5be-4a61-ae95-0797862051d0"
      },
      "source": [
        "my_first_nn = Sequential() # create model\n",
        "my_first_nn.add(Dense(20, input_dim=8, activation='relu')) # hidden layer\n",
        "my_first_nn.add(Dense(1, activation='sigmoid')) # output layer\n",
        "my_first_nn.compile(loss='binary_crossentropy', optimizer='adam', metrics=['acc'])\n",
        "my_first_nn_fitted = my_first_nn.fit(X_train, Y_train, epochs=100,initial_epoch=0)"
      ],
      "execution_count": 5,
      "outputs": [
        {
          "output_type": "stream",
          "text": [
            "WARNING:tensorflow:From /usr/local/lib/python3.6/dist-packages/keras/backend/tensorflow_backend.py:66: The name tf.get_default_graph is deprecated. Please use tf.compat.v1.get_default_graph instead.\n",
            "\n",
            "WARNING:tensorflow:From /usr/local/lib/python3.6/dist-packages/keras/backend/tensorflow_backend.py:541: The name tf.placeholder is deprecated. Please use tf.compat.v1.placeholder instead.\n",
            "\n",
            "WARNING:tensorflow:From /usr/local/lib/python3.6/dist-packages/keras/backend/tensorflow_backend.py:4432: The name tf.random_uniform is deprecated. Please use tf.random.uniform instead.\n",
            "\n",
            "WARNING:tensorflow:From /usr/local/lib/python3.6/dist-packages/keras/optimizers.py:793: The name tf.train.Optimizer is deprecated. Please use tf.compat.v1.train.Optimizer instead.\n",
            "\n",
            "WARNING:tensorflow:From /usr/local/lib/python3.6/dist-packages/keras/backend/tensorflow_backend.py:3657: The name tf.log is deprecated. Please use tf.math.log instead.\n",
            "\n",
            "WARNING:tensorflow:From /tensorflow-1.15.0/python3.6/tensorflow_core/python/ops/nn_impl.py:183: where (from tensorflow.python.ops.array_ops) is deprecated and will be removed in a future version.\n",
            "Instructions for updating:\n",
            "Use tf.where in 2.0, which has the same broadcast rule as np.where\n",
            "WARNING:tensorflow:From /usr/local/lib/python3.6/dist-packages/keras/backend/tensorflow_backend.py:1033: The name tf.assign_add is deprecated. Please use tf.compat.v1.assign_add instead.\n",
            "\n",
            "WARNING:tensorflow:From /usr/local/lib/python3.6/dist-packages/keras/backend/tensorflow_backend.py:1020: The name tf.assign is deprecated. Please use tf.compat.v1.assign instead.\n",
            "\n",
            "WARNING:tensorflow:From /usr/local/lib/python3.6/dist-packages/keras/backend/tensorflow_backend.py:3005: The name tf.Session is deprecated. Please use tf.compat.v1.Session instead.\n",
            "\n",
            "Epoch 1/100\n",
            "WARNING:tensorflow:From /usr/local/lib/python3.6/dist-packages/keras/backend/tensorflow_backend.py:190: The name tf.get_default_session is deprecated. Please use tf.compat.v1.get_default_session instead.\n",
            "\n",
            "WARNING:tensorflow:From /usr/local/lib/python3.6/dist-packages/keras/backend/tensorflow_backend.py:197: The name tf.ConfigProto is deprecated. Please use tf.compat.v1.ConfigProto instead.\n",
            "\n",
            "WARNING:tensorflow:From /usr/local/lib/python3.6/dist-packages/keras/backend/tensorflow_backend.py:207: The name tf.global_variables is deprecated. Please use tf.compat.v1.global_variables instead.\n",
            "\n",
            "WARNING:tensorflow:From /usr/local/lib/python3.6/dist-packages/keras/backend/tensorflow_backend.py:216: The name tf.is_variable_initialized is deprecated. Please use tf.compat.v1.is_variable_initialized instead.\n",
            "\n",
            "WARNING:tensorflow:From /usr/local/lib/python3.6/dist-packages/keras/backend/tensorflow_backend.py:223: The name tf.variables_initializer is deprecated. Please use tf.compat.v1.variables_initializer instead.\n",
            "\n",
            "576/576 [==============================] - 1s 1ms/step - loss: 6.5444 - acc: 0.4410\n",
            "Epoch 2/100\n",
            "576/576 [==============================] - 0s 37us/step - loss: 3.9744 - acc: 0.6302\n",
            "Epoch 3/100\n",
            "576/576 [==============================] - 0s 37us/step - loss: 3.7117 - acc: 0.6354\n",
            "Epoch 4/100\n",
            "576/576 [==============================] - 0s 39us/step - loss: 3.4100 - acc: 0.6181\n",
            "Epoch 5/100\n",
            "576/576 [==============================] - 0s 37us/step - loss: 3.2427 - acc: 0.6267\n",
            "Epoch 6/100\n",
            "576/576 [==============================] - 0s 36us/step - loss: 3.0628 - acc: 0.6163\n",
            "Epoch 7/100\n",
            "576/576 [==============================] - 0s 38us/step - loss: 2.9038 - acc: 0.6198\n",
            "Epoch 8/100\n",
            "576/576 [==============================] - 0s 39us/step - loss: 2.8508 - acc: 0.6076\n",
            "Epoch 9/100\n",
            "576/576 [==============================] - 0s 42us/step - loss: 2.5750 - acc: 0.5972\n",
            "Epoch 10/100\n",
            "576/576 [==============================] - 0s 37us/step - loss: 2.3783 - acc: 0.6076\n",
            "Epoch 11/100\n",
            "576/576 [==============================] - 0s 42us/step - loss: 2.1393 - acc: 0.6076\n",
            "Epoch 12/100\n",
            "576/576 [==============================] - 0s 42us/step - loss: 1.9879 - acc: 0.6007\n",
            "Epoch 13/100\n",
            "576/576 [==============================] - 0s 43us/step - loss: 1.7642 - acc: 0.6111\n",
            "Epoch 14/100\n",
            "576/576 [==============================] - 0s 39us/step - loss: 1.5680 - acc: 0.6215\n",
            "Epoch 15/100\n",
            "576/576 [==============================] - 0s 44us/step - loss: 1.3690 - acc: 0.6146\n",
            "Epoch 16/100\n",
            "576/576 [==============================] - 0s 38us/step - loss: 1.1770 - acc: 0.6441\n",
            "Epoch 17/100\n",
            "576/576 [==============================] - 0s 46us/step - loss: 1.0613 - acc: 0.6719\n",
            "Epoch 18/100\n",
            "576/576 [==============================] - 0s 57us/step - loss: 1.0059 - acc: 0.6389\n",
            "Epoch 19/100\n",
            "576/576 [==============================] - 0s 38us/step - loss: 0.9715 - acc: 0.6493\n",
            "Epoch 20/100\n",
            "576/576 [==============================] - 0s 37us/step - loss: 0.8424 - acc: 0.6892\n",
            "Epoch 21/100\n",
            "576/576 [==============================] - 0s 40us/step - loss: 0.7911 - acc: 0.7049\n",
            "Epoch 22/100\n",
            "576/576 [==============================] - 0s 39us/step - loss: 0.7478 - acc: 0.7135\n",
            "Epoch 23/100\n",
            "576/576 [==============================] - 0s 44us/step - loss: 0.7090 - acc: 0.7188\n",
            "Epoch 24/100\n",
            "576/576 [==============================] - 0s 38us/step - loss: 0.7173 - acc: 0.7014\n",
            "Epoch 25/100\n",
            "576/576 [==============================] - 0s 39us/step - loss: 0.7036 - acc: 0.7083\n",
            "Epoch 26/100\n",
            "576/576 [==============================] - 0s 45us/step - loss: 0.6878 - acc: 0.7135\n",
            "Epoch 27/100\n",
            "576/576 [==============================] - 0s 44us/step - loss: 0.6576 - acc: 0.7240\n",
            "Epoch 28/100\n",
            "576/576 [==============================] - 0s 40us/step - loss: 0.6527 - acc: 0.7326\n",
            "Epoch 29/100\n",
            "576/576 [==============================] - 0s 42us/step - loss: 0.6525 - acc: 0.7240\n",
            "Epoch 30/100\n",
            "576/576 [==============================] - 0s 40us/step - loss: 0.6249 - acc: 0.7378\n",
            "Epoch 31/100\n",
            "576/576 [==============================] - 0s 41us/step - loss: 0.6281 - acc: 0.7292\n",
            "Epoch 32/100\n",
            "576/576 [==============================] - 0s 43us/step - loss: 0.6465 - acc: 0.7205\n",
            "Epoch 33/100\n",
            "576/576 [==============================] - 0s 43us/step - loss: 0.6346 - acc: 0.7326\n",
            "Epoch 34/100\n",
            "576/576 [==============================] - 0s 43us/step - loss: 0.6336 - acc: 0.7014\n",
            "Epoch 35/100\n",
            "576/576 [==============================] - 0s 39us/step - loss: 0.6115 - acc: 0.7170\n",
            "Epoch 36/100\n",
            "576/576 [==============================] - 0s 40us/step - loss: 0.6076 - acc: 0.7257\n",
            "Epoch 37/100\n",
            "576/576 [==============================] - 0s 46us/step - loss: 0.6345 - acc: 0.7066\n",
            "Epoch 38/100\n",
            "576/576 [==============================] - 0s 41us/step - loss: 0.6024 - acc: 0.7205\n",
            "Epoch 39/100\n",
            "576/576 [==============================] - 0s 37us/step - loss: 0.5936 - acc: 0.7240\n",
            "Epoch 40/100\n",
            "576/576 [==============================] - 0s 42us/step - loss: 0.5801 - acc: 0.7431\n",
            "Epoch 41/100\n",
            "576/576 [==============================] - 0s 44us/step - loss: 0.6370 - acc: 0.7066\n",
            "Epoch 42/100\n",
            "576/576 [==============================] - 0s 38us/step - loss: 0.6376 - acc: 0.6858\n",
            "Epoch 43/100\n",
            "576/576 [==============================] - 0s 36us/step - loss: 0.5873 - acc: 0.7361\n",
            "Epoch 44/100\n",
            "576/576 [==============================] - 0s 44us/step - loss: 0.5754 - acc: 0.7378\n",
            "Epoch 45/100\n",
            "576/576 [==============================] - 0s 57us/step - loss: 0.5901 - acc: 0.7257\n",
            "Epoch 46/100\n",
            "576/576 [==============================] - 0s 41us/step - loss: 0.5943 - acc: 0.7170\n",
            "Epoch 47/100\n",
            "576/576 [==============================] - 0s 43us/step - loss: 0.6041 - acc: 0.7153\n",
            "Epoch 48/100\n",
            "576/576 [==============================] - 0s 39us/step - loss: 0.6310 - acc: 0.7083\n",
            "Epoch 49/100\n",
            "576/576 [==============================] - 0s 41us/step - loss: 0.5784 - acc: 0.7240\n",
            "Epoch 50/100\n",
            "576/576 [==============================] - 0s 40us/step - loss: 0.5684 - acc: 0.7361\n",
            "Epoch 51/100\n",
            "576/576 [==============================] - 0s 45us/step - loss: 0.5952 - acc: 0.7101\n",
            "Epoch 52/100\n",
            "576/576 [==============================] - 0s 40us/step - loss: 0.5530 - acc: 0.7500\n",
            "Epoch 53/100\n",
            "576/576 [==============================] - 0s 46us/step - loss: 0.6144 - acc: 0.7188\n",
            "Epoch 54/100\n",
            "576/576 [==============================] - 0s 39us/step - loss: 0.6287 - acc: 0.6927\n",
            "Epoch 55/100\n",
            "576/576 [==============================] - 0s 40us/step - loss: 0.6029 - acc: 0.6892\n",
            "Epoch 56/100\n",
            "576/576 [==============================] - 0s 41us/step - loss: 0.5608 - acc: 0.7448\n",
            "Epoch 57/100\n",
            "576/576 [==============================] - 0s 38us/step - loss: 0.5575 - acc: 0.7656\n",
            "Epoch 58/100\n",
            "576/576 [==============================] - 0s 44us/step - loss: 0.5763 - acc: 0.7500\n",
            "Epoch 59/100\n",
            "576/576 [==============================] - 0s 39us/step - loss: 0.5534 - acc: 0.7361\n",
            "Epoch 60/100\n",
            "576/576 [==============================] - 0s 41us/step - loss: 0.5583 - acc: 0.7431\n",
            "Epoch 61/100\n",
            "576/576 [==============================] - 0s 44us/step - loss: 0.5794 - acc: 0.7135\n",
            "Epoch 62/100\n",
            "576/576 [==============================] - 0s 45us/step - loss: 0.5635 - acc: 0.7292\n",
            "Epoch 63/100\n",
            "576/576 [==============================] - 0s 39us/step - loss: 0.5538 - acc: 0.7309\n",
            "Epoch 64/100\n",
            "576/576 [==============================] - 0s 43us/step - loss: 0.5498 - acc: 0.7413\n",
            "Epoch 65/100\n",
            "576/576 [==============================] - 0s 37us/step - loss: 0.5613 - acc: 0.7431\n",
            "Epoch 66/100\n",
            "576/576 [==============================] - 0s 41us/step - loss: 0.5373 - acc: 0.7465\n",
            "Epoch 67/100\n",
            "576/576 [==============================] - 0s 36us/step - loss: 0.5772 - acc: 0.7292\n",
            "Epoch 68/100\n",
            "576/576 [==============================] - 0s 41us/step - loss: 0.5554 - acc: 0.7448\n",
            "Epoch 69/100\n",
            "576/576 [==============================] - 0s 41us/step - loss: 0.5539 - acc: 0.7587\n",
            "Epoch 70/100\n",
            "576/576 [==============================] - 0s 49us/step - loss: 0.5426 - acc: 0.7344\n",
            "Epoch 71/100\n",
            "576/576 [==============================] - 0s 39us/step - loss: 0.5511 - acc: 0.7205\n",
            "Epoch 72/100\n",
            "576/576 [==============================] - 0s 46us/step - loss: 0.5601 - acc: 0.7448\n",
            "Epoch 73/100\n",
            "576/576 [==============================] - 0s 41us/step - loss: 0.5412 - acc: 0.7483\n",
            "Epoch 74/100\n",
            "576/576 [==============================] - 0s 42us/step - loss: 0.5460 - acc: 0.7344\n",
            "Epoch 75/100\n",
            "576/576 [==============================] - 0s 41us/step - loss: 0.5626 - acc: 0.7361\n",
            "Epoch 76/100\n",
            "576/576 [==============================] - 0s 41us/step - loss: 0.6231 - acc: 0.6997\n",
            "Epoch 77/100\n",
            "576/576 [==============================] - 0s 40us/step - loss: 0.5441 - acc: 0.7431\n",
            "Epoch 78/100\n",
            "576/576 [==============================] - 0s 45us/step - loss: 0.5472 - acc: 0.7500\n",
            "Epoch 79/100\n",
            "576/576 [==============================] - 0s 42us/step - loss: 0.5333 - acc: 0.7517\n",
            "Epoch 80/100\n",
            "576/576 [==============================] - 0s 47us/step - loss: 0.5444 - acc: 0.7483\n",
            "Epoch 81/100\n",
            "576/576 [==============================] - 0s 43us/step - loss: 0.5564 - acc: 0.7344\n",
            "Epoch 82/100\n",
            "576/576 [==============================] - 0s 45us/step - loss: 0.5352 - acc: 0.7396\n",
            "Epoch 83/100\n",
            "576/576 [==============================] - 0s 38us/step - loss: 0.5306 - acc: 0.7448\n",
            "Epoch 84/100\n",
            "576/576 [==============================] - 0s 38us/step - loss: 0.5378 - acc: 0.7448\n",
            "Epoch 85/100\n",
            "576/576 [==============================] - 0s 50us/step - loss: 0.5629 - acc: 0.7309\n",
            "Epoch 86/100\n",
            "576/576 [==============================] - 0s 41us/step - loss: 0.5480 - acc: 0.7222\n",
            "Epoch 87/100\n",
            "576/576 [==============================] - 0s 42us/step - loss: 0.5388 - acc: 0.7431\n",
            "Epoch 88/100\n",
            "576/576 [==============================] - 0s 37us/step - loss: 0.5424 - acc: 0.7326\n",
            "Epoch 89/100\n",
            "576/576 [==============================] - 0s 45us/step - loss: 0.5262 - acc: 0.7604\n",
            "Epoch 90/100\n",
            "576/576 [==============================] - 0s 37us/step - loss: 0.5407 - acc: 0.7240\n",
            "Epoch 91/100\n",
            "576/576 [==============================] - 0s 46us/step - loss: 0.5478 - acc: 0.7274\n",
            "Epoch 92/100\n",
            "576/576 [==============================] - 0s 44us/step - loss: 0.5162 - acc: 0.7535\n",
            "Epoch 93/100\n",
            "576/576 [==============================] - 0s 39us/step - loss: 0.5136 - acc: 0.7535\n",
            "Epoch 94/100\n",
            "576/576 [==============================] - 0s 40us/step - loss: 0.5287 - acc: 0.7500\n",
            "Epoch 95/100\n",
            "576/576 [==============================] - 0s 41us/step - loss: 0.5243 - acc: 0.7448\n",
            "Epoch 96/100\n",
            "576/576 [==============================] - 0s 40us/step - loss: 0.5317 - acc: 0.7517\n",
            "Epoch 97/100\n",
            "576/576 [==============================] - 0s 48us/step - loss: 0.5492 - acc: 0.7257\n",
            "Epoch 98/100\n",
            "576/576 [==============================] - 0s 41us/step - loss: 0.5369 - acc: 0.7465\n",
            "Epoch 99/100\n",
            "576/576 [==============================] - 0s 48us/step - loss: 0.5247 - acc: 0.7309\n",
            "Epoch 100/100\n",
            "576/576 [==============================] - 0s 46us/step - loss: 0.5373 - acc: 0.7413\n"
          ],
          "name": "stdout"
        }
      ]
    },
    {
      "cell_type": "code",
      "metadata": {
        "id": "19SYVY4DH7OW",
        "colab_type": "code",
        "colab": {
          "base_uri": "https://localhost:8080/",
          "height": 293
        },
        "outputId": "b778ec30-b70f-402d-94f0-0e35dc25e000"
      },
      "source": [
        "print(my_first_nn.summary())\n",
        "print(my_first_nn.evaluate(X_test, Y_test))"
      ],
      "execution_count": 6,
      "outputs": [
        {
          "output_type": "stream",
          "text": [
            "Model: \"sequential_1\"\n",
            "_________________________________________________________________\n",
            "Layer (type)                 Output Shape              Param #   \n",
            "=================================================================\n",
            "dense_1 (Dense)              (None, 20)                180       \n",
            "_________________________________________________________________\n",
            "dense_2 (Dense)              (None, 1)                 21        \n",
            "=================================================================\n",
            "Total params: 201\n",
            "Trainable params: 201\n",
            "Non-trainable params: 0\n",
            "_________________________________________________________________\n",
            "None\n",
            "192/192 [==============================] - 0s 163us/step\n",
            "[0.6715046564737955, 0.6666666666666666]\n"
          ],
          "name": "stdout"
        }
      ]
    },
    {
      "cell_type": "code",
      "metadata": {
        "id": "EBYPua9zH-E6",
        "colab_type": "code",
        "colab": {}
      },
      "source": [
        ""
      ],
      "execution_count": 0,
      "outputs": []
    }
  ]
}