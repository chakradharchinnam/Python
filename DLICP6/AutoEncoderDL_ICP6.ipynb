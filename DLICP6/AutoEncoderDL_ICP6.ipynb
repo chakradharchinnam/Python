{
  "nbformat": 4,
  "nbformat_minor": 0,
  "metadata": {
    "colab": {
      "name": "AutoEncoderDL_ICP6.ipynb",
      "provenance": []
    },
    "kernelspec": {
      "name": "python3",
      "display_name": "Python 3"
    }
  },
  "cells": [
    {
      "cell_type": "code",
      "metadata": {
        "id": "lNNWGzDooAot",
        "colab_type": "code",
        "outputId": "0742696a-87b1-46b2-b749-285ba5fc632f",
        "colab": {
          "base_uri": "https://localhost:8080/",
          "height": 34
        }
      },
      "source": [
        "from keras.layers import Input, Dense\n",
        "from keras.models import Model"
      ],
      "execution_count": 0,
      "outputs": [
        {
          "output_type": "stream",
          "text": [
            "Using TensorFlow backend.\n"
          ],
          "name": "stderr"
        }
      ]
    },
    {
      "cell_type": "code",
      "metadata": {
        "id": "wLc0ws8ZoL0x",
        "colab_type": "code",
        "colab": {}
      },
      "source": [
        "# this is the size of our encoded representations\n",
        "encoding_dim = 32  # 32 floats -> compression of factor 24.5, assuming the input is 784 floats"
      ],
      "execution_count": 0,
      "outputs": []
    },
    {
      "cell_type": "code",
      "metadata": {
        "id": "_sHwX_mcoOlI",
        "colab_type": "code",
        "colab": {}
      },
      "source": [
        "# this is our input placeholder\n",
        "input_img = Input(shape=(784,))\n",
        "# \"encoded\" is the encoded representation of the input\n",
        "encoded = Dense(encoding_dim, activation='relu')(input_img)\n",
        "# \"decoded\" is the lossy reconstruction of the input\n",
        "decoded = Dense(784, activation='sigmoid')(encoded)\n",
        "# this model maps an input to its reconstruction\n",
        "autoencoder = Model(input_img, decoded)\n",
        "# this model maps an input to its encoded representation\n",
        "autoencoder.compile(optimizer='adadelta', loss='binary_crossentropy')"
      ],
      "execution_count": 0,
      "outputs": []
    },
    {
      "cell_type": "code",
      "metadata": {
        "id": "7VRQIc2aoQ09",
        "colab_type": "code",
        "colab": {}
      },
      "source": [
        "from keras.datasets import mnist, fashion_mnist\n",
        "import numpy as np"
      ],
      "execution_count": 0,
      "outputs": []
    },
    {
      "cell_type": "code",
      "metadata": {
        "id": "6GKHLBodoShq",
        "colab_type": "code",
        "outputId": "299fb56e-4d9e-4058-8210-8a52b3642709",
        "colab": {
          "base_uri": "https://localhost:8080/",
          "height": 151
        }
      },
      "source": [
        "(x_train, y_train), (x_test, y_test) = fashion_mnist.load_data()\n",
        "x_train = x_train.astype('float32') / 255.\n",
        "x_test = x_test.astype('float32') / 255.\n",
        "x_train = x_train.reshape((len(x_train), np.prod(x_train.shape[1:])))\n",
        "x_test = x_test.reshape((len(x_test), np.prod(x_test.shape[1:])))"
      ],
      "execution_count": 0,
      "outputs": [
        {
          "output_type": "stream",
          "text": [
            "Downloading data from http://fashion-mnist.s3-website.eu-central-1.amazonaws.com/train-labels-idx1-ubyte.gz\n",
            "32768/29515 [=================================] - 0s 3us/step\n",
            "Downloading data from http://fashion-mnist.s3-website.eu-central-1.amazonaws.com/train-images-idx3-ubyte.gz\n",
            "26427392/26421880 [==============================] - 2s 0us/step\n",
            "Downloading data from http://fashion-mnist.s3-website.eu-central-1.amazonaws.com/t10k-labels-idx1-ubyte.gz\n",
            "8192/5148 [===============================================] - 0s 0us/step\n",
            "Downloading data from http://fashion-mnist.s3-website.eu-central-1.amazonaws.com/t10k-images-idx3-ubyte.gz\n",
            "4423680/4422102 [==============================] - 1s 0us/step\n"
          ],
          "name": "stdout"
        }
      ]
    },
    {
      "cell_type": "code",
      "metadata": {
        "id": "PhNYyxTvoUUW",
        "colab_type": "code",
        "outputId": "572c51e0-602a-4deb-85cc-fe128d26f3fb",
        "colab": {
          "base_uri": "https://localhost:8080/",
          "height": 218
        }
      },
      "source": [
        "autoencoder.fit(x_train, x_train,\n",
        "                epochs=5,\n",
        "                batch_size=256,\n",
        "                shuffle=True,\n",
        "                validation_data=(x_test, x_test))"
      ],
      "execution_count": 0,
      "outputs": [
        {
          "output_type": "stream",
          "text": [
            "Train on 60000 samples, validate on 10000 samples\n",
            "Epoch 1/5\n",
            "60000/60000 [==============================] - 3s 44us/step - loss: 0.5265 - val_loss: 0.4538\n",
            "Epoch 2/5\n",
            "60000/60000 [==============================] - 2s 40us/step - loss: 0.4225 - val_loss: 0.4043\n",
            "Epoch 3/5\n",
            "60000/60000 [==============================] - 2s 38us/step - loss: 0.3931 - val_loss: 0.3848\n",
            "Epoch 4/5\n",
            "60000/60000 [==============================] - 2s 39us/step - loss: 0.3747 - val_loss: 0.3684\n",
            "Epoch 5/5\n",
            "60000/60000 [==============================] - 2s 38us/step - loss: 0.3602 - val_loss: 0.3561\n"
          ],
          "name": "stdout"
        },
        {
          "output_type": "execute_result",
          "data": {
            "text/plain": [
              "<keras.callbacks.callbacks.History at 0x7f1d128f0f98>"
            ]
          },
          "metadata": {
            "tags": []
          },
          "execution_count": 6
        }
      ]
    },
    {
      "cell_type": "markdown",
      "metadata": {
        "id": "-5NneItzoz0K",
        "colab_type": "text"
      },
      "source": [
        "1. Add one more hidden layer to autoencoder"
      ]
    },
    {
      "cell_type": "code",
      "metadata": {
        "id": "6sYADz4XoXPS",
        "colab_type": "code",
        "colab": {}
      },
      "source": [
        "# this is the size of our encoded representations\n",
        "encoding_dim = 32  # 32 floats -> compression of factor 24.5, assuming the input is 784 floats\n",
        "\n",
        "# this is our input placeholder\n",
        "input_img = Input(shape=(784,))\n",
        "# \"encoded\" is the encoded representation of the input\n",
        "encoded = Dense(encoding_dim, activation='relu')(input_img)\n",
        "#addining a hidden layer\n",
        "hiddenLayer=Dense(512,activation='relu')(encoded)\n",
        "# \"decoded\" is the lossy reconstruction of the input\n",
        "decoded = Dense(784, activation='sigmoid')(hiddenLayer)\n",
        "# this model maps an input to its reconstruction\n",
        "autoencoder1 = Model(input_img, decoded)\n",
        "# this model maps an input to its encoded representation\n",
        "autoencoder1.compile(optimizer='adadelta', loss='binary_crossentropy',metrics=['accuracy'])\n",
        "from keras.datasets import fashion_mnist\n",
        "import numpy as np\n",
        "(x_train, _), (x_test, _) = fashion_mnist.load_data()\n",
        "x_train = x_train.astype('float32') / 255.\n",
        "x_test = x_test.astype('float32') / 255.\n",
        "x_train = x_train.reshape((len(x_train), np.prod(x_train.shape[1:])))\n",
        "x_test = x_test.reshape((len(x_test), np.prod(x_test.shape[1:])))"
      ],
      "execution_count": 0,
      "outputs": []
    },
    {
      "cell_type": "code",
      "metadata": {
        "id": "lqTcnLlqppzF",
        "colab_type": "code",
        "outputId": "95923f01-09e1-41fe-a54d-cdae9672e3d1",
        "colab": {
          "base_uri": "https://localhost:8080/",
          "height": 218
        }
      },
      "source": [
        "autoencoder1.fit(x_train, x_train,\n",
        "                epochs=5,\n",
        "                batch_size=256,\n",
        "                shuffle=True,\n",
        "                validation_data=(x_test, x_test))"
      ],
      "execution_count": 0,
      "outputs": [
        {
          "output_type": "stream",
          "text": [
            "Train on 60000 samples, validate on 10000 samples\n",
            "Epoch 1/5\n",
            "60000/60000 [==============================] - 7s 111us/step - loss: 0.4993 - accuracy: 0.4592 - val_loss: 0.4114 - val_accuracy: 0.4878\n",
            "Epoch 2/5\n",
            "60000/60000 [==============================] - 7s 108us/step - loss: 0.3911 - accuracy: 0.4913 - val_loss: 0.3783 - val_accuracy: 0.4910\n",
            "Epoch 3/5\n",
            "60000/60000 [==============================] - 7s 109us/step - loss: 0.3636 - accuracy: 0.4962 - val_loss: 0.3535 - val_accuracy: 0.4968\n",
            "Epoch 4/5\n",
            "60000/60000 [==============================] - 7s 110us/step - loss: 0.3430 - accuracy: 0.5001 - val_loss: 0.3411 - val_accuracy: 0.5010\n",
            "Epoch 5/5\n",
            "60000/60000 [==============================] - 7s 111us/step - loss: 0.3320 - accuracy: 0.5020 - val_loss: 0.3366 - val_accuracy: 0.5025\n"
          ],
          "name": "stdout"
        },
        {
          "output_type": "execute_result",
          "data": {
            "text/plain": [
              "<keras.callbacks.callbacks.History at 0x7f1d0b39d7f0>"
            ]
          },
          "metadata": {
            "tags": []
          },
          "execution_count": 8
        }
      ]
    },
    {
      "cell_type": "markdown",
      "metadata": {
        "id": "14qSwIwfqo4I",
        "colab_type": "text"
      },
      "source": [
        "2. visualize the inputand reconstructed representationof the autoencoder using Matplotlib\n"
      ]
    },
    {
      "cell_type": "code",
      "metadata": {
        "id": "nOLUBAOrqquN",
        "colab_type": "code",
        "colab": {}
      },
      "source": [
        "prediction = autoencoder1.predict(x_test[[3],:])\n",
        "#prediction"
      ],
      "execution_count": 0,
      "outputs": []
    },
    {
      "cell_type": "code",
      "metadata": {
        "id": "pOSs8Pgfq7Hy",
        "colab_type": "code",
        "outputId": "25842778-dead-40c1-f22a-4a5f42d5171f",
        "colab": {
          "base_uri": "https://localhost:8080/",
          "height": 265
        }
      },
      "source": [
        "from matplotlib import pyplot as plt\n",
        "plt.imshow(x_test[3].reshape(28,28))\n",
        "plt.show()"
      ],
      "execution_count": 0,
      "outputs": [
        {
          "output_type": "display_data",
          "data": {
            "image/png": "[encoded data removed]",
            "text/plain": [
              "<Figure size 432x288 with 1 Axes>"
            ]
          },
          "metadata": {
            "tags": [],
            "needs_background": "light"
          }
        }
      ]
    },
    {
      "cell_type": "code",
      "metadata": {
        "id": "4bRQ2EiCrBbp",
        "colab_type": "code",
        "outputId": "dc44c4ce-f1a6-46f2-9ea1-0a8eb5326947",
        "colab": {
          "base_uri": "https://localhost:8080/",
          "height": 265
        }
      },
      "source": [
        "from matplotlib import pyplot as plt\n",
        "plt.imshow(prediction[0].reshape(28,28))\n",
        "plt.show()"
      ],
      "execution_count": 0,
      "outputs": [
        {
          "output_type": "display_data",
          "data": {
            "image/png": "[encoded data removed]",
            "text/plain": [
              "<Figure size 432x288 with 1 Axes>"
            ]
          },
          "metadata": {
            "tags": [],
            "needs_background": "light"
          }
        }
      ]
    },
    {
      "cell_type": "markdown",
      "metadata": {
        "id": "U_tTxSPMrGVs",
        "colab_type": "text"
      },
      "source": [
        "3. visualize the input, noisy inputand reconstructed representation(denosed output)of the Denosing_Autoencoder using Matplotlib\n"
      ]
    },
    {
      "cell_type": "code",
      "metadata": {
        "id": "f67o4xVRrR0I",
        "colab_type": "code",
        "colab": {}
      },
      "source": [
        "#Adding Noies\n",
        "noise_factor = 0.5\n",
        "x_train_noisy = x_train + noise_factor * np.random.normal(loc=0.0, scale=1.0, size=x_train.shape)\n",
        "x_test_noisy = x_test + noise_factor * np.random.normal(loc=0.0, scale=1.0, size=x_test.shape)\n"
      ],
      "execution_count": 0,
      "outputs": []
    },
    {
      "cell_type": "code",
      "metadata": {
        "id": "RXemgtzfrXWx",
        "colab_type": "code",
        "outputId": "5f8e4f0a-fc05-485f-bac4-af246712ad94",
        "colab": {
          "base_uri": "https://localhost:8080/",
          "height": 370
        }
      },
      "source": [
        "history=autoencoder1.fit(x_train_noisy, x_train,\n",
        "                epochs=10,\n",
        "                batch_size=256,\n",
        "                shuffle=True,\n",
        "                validation_data=(x_test_noisy, x_test_noisy))"
      ],
      "execution_count": 0,
      "outputs": [
        {
          "output_type": "stream",
          "text": [
            "Train on 60000 samples, validate on 10000 samples\n",
            "Epoch 1/10\n",
            "60000/60000 [==============================] - 7s 114us/step - loss: 0.3143 - accuracy: 0.5044 - val_loss: 0.2981 - val_accuracy: 0.0000e+00\n",
            "Epoch 2/10\n",
            "60000/60000 [==============================] - 7s 115us/step - loss: 0.3137 - accuracy: 0.5045 - val_loss: 0.2954 - val_accuracy: 0.0000e+00\n",
            "Epoch 3/10\n",
            "60000/60000 [==============================] - 7s 114us/step - loss: 0.3129 - accuracy: 0.5047 - val_loss: 0.2929 - val_accuracy: 0.0000e+00\n",
            "Epoch 4/10\n",
            "60000/60000 [==============================] - 7s 113us/step - loss: 0.3120 - accuracy: 0.5048 - val_loss: 0.2933 - val_accuracy: 0.0000e+00\n",
            "Epoch 5/10\n",
            "60000/60000 [==============================] - 7s 114us/step - loss: 0.3115 - accuracy: 0.5049 - val_loss: 0.2910 - val_accuracy: 0.0000e+00\n",
            "Epoch 6/10\n",
            "60000/60000 [==============================] - 7s 113us/step - loss: 0.3107 - accuracy: 0.5050 - val_loss: 0.2893 - val_accuracy: 0.0000e+00\n",
            "Epoch 7/10\n",
            "60000/60000 [==============================] - 7s 113us/step - loss: 0.3098 - accuracy: 0.5051 - val_loss: 0.2882 - val_accuracy: 0.0000e+00\n",
            "Epoch 8/10\n",
            "60000/60000 [==============================] - 7s 113us/step - loss: 0.3096 - accuracy: 0.5051 - val_loss: 0.2882 - val_accuracy: 0.0000e+00\n",
            "Epoch 9/10\n",
            "60000/60000 [==============================] - 7s 115us/step - loss: 0.3090 - accuracy: 0.5052 - val_loss: 0.2864 - val_accuracy: 0.0000e+00\n",
            "Epoch 10/10\n",
            "60000/60000 [==============================] - 7s 114us/step - loss: 0.3084 - accuracy: 0.5053 - val_loss: 0.2864 - val_accuracy: 0.0000e+00\n"
          ],
          "name": "stdout"
        }
      ]
    },
    {
      "cell_type": "code",
      "metadata": {
        "id": "hePmlHNnrt7F",
        "colab_type": "code",
        "outputId": "3e200505-1781-4abb-e8da-5640c3223ec7",
        "colab": {
          "base_uri": "https://localhost:8080/",
          "height": 265
        }
      },
      "source": [
        "from matplotlib import pyplot as plt\n",
        "plt.imshow(x_train_noisy[2].reshape(28,28))\n",
        "plt.show()"
      ],
      "execution_count": 0,
      "outputs": [
        {
          "output_type": "display_data",
          "data": {
            "image/png": "[encoded data removed]",
            "text/plain": [
              "<Figure size 432x288 with 1 Axes>"
            ]
          },
          "metadata": {
            "tags": [],
            "needs_background": "light"
          }
        }
      ]
    },
    {
      "cell_type": "code",
      "metadata": {
        "id": "B0WFDiXorugJ",
        "colab_type": "code",
        "colab": {}
      },
      "source": [
        "prediction1 = autoencoder1.predict(x_train_noisy[[2],:])\n",
        "#prediction1[0]"
      ],
      "execution_count": 0,
      "outputs": []
    },
    {
      "cell_type": "code",
      "metadata": {
        "id": "59t38F5Cr0Se",
        "colab_type": "code",
        "outputId": "d1dcfab6-8507-4d00-ab4c-8606fdc479b5",
        "colab": {
          "base_uri": "https://localhost:8080/",
          "height": 265
        }
      },
      "source": [
        "from matplotlib import pyplot as plt\n",
        "plt.imshow(prediction1[0].reshape(28,28))\n",
        "plt.show()"
      ],
      "execution_count": 0,
      "outputs": [
        {
          "output_type": "display_data",
          "data": {
            "image/png": "[encoded data removed]",
            "text/plain": [
              "<Figure size 432x288 with 1 Axes>"
            ]
          },
          "metadata": {
            "tags": [],
            "needs_background": "light"
          }
        }
      ]
    },
    {
      "cell_type": "markdown",
      "metadata": {
        "id": "53vUZHLpr68z",
        "colab_type": "text"
      },
      "source": [
        "4. plot lossand accuracy using the history object"
      ]
    },
    {
      "cell_type": "code",
      "metadata": {
        "id": "hfQinTbkr6Pf",
        "colab_type": "code",
        "outputId": "5c876963-08fe-488d-fb5e-ca0b8b40d4ea",
        "colab": {
          "base_uri": "https://localhost:8080/",
          "height": 295
        }
      },
      "source": [
        "import matplotlib.pyplot as plt\n",
        "plt.plot(history.history['accuracy'])\n",
        "plt.plot(history.history['loss'])\n",
        "plt.title('model accuracy vs loss')\n",
        "plt.xlabel('epoch')\n",
        "plt.legend(['accuray','loss'], loc='upper left')\n",
        "plt.show()"
      ],
      "execution_count": 0,
      "outputs": [
        {
          "output_type": "display_data",
          "data": {
            "image/png": "[encoded data removed]",
            "text/plain": [
              "<Figure size 432x288 with 1 Axes>"
            ]
          },
          "metadata": {
            "tags": [],
            "needs_background": "light"
          }
        }
      ]
    },
    {
      "cell_type": "markdown",
      "metadata": {
        "id": "YSNJfhAtu-gd",
        "colab_type": "text"
      },
      "source": [
        "train[0:]\n",
        "(6000,28,28,3)"
      ]
    }
  ]
}